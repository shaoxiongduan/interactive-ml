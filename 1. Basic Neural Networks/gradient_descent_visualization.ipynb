{
 "cells": [
  {
   "cell_type": "code",
   "execution_count": 11,
   "metadata": {},
   "outputs": [
    {
     "data": {
      "application/vnd.jupyter.widget-view+json": {
       "model_id": "ba025bd3f0d44576a8f6bfebf05ea0a5",
       "version_major": 2,
       "version_minor": 0
      },
      "text/plain": [
       "IntSlider(value=10, description='Epochs:', min=1)"
      ]
     },
     "metadata": {},
     "output_type": "display_data"
    },
    {
     "data": {
      "application/vnd.jupyter.widget-view+json": {
       "model_id": "be23439777754ce691295cd0fc07702b",
       "version_major": 2,
       "version_minor": 0
      },
      "text/plain": [
       "Dropdown(description='Function:', options=('Simple Quadratic', 'Trigonometric', 'Rosenbrock'), value='Simple Q…"
      ]
     },
     "metadata": {},
     "output_type": "display_data"
    },
    {
     "data": {
      "application/vnd.jupyter.widget-view+json": {
       "model_id": "d8dc8ecfbef44ac299dd59e3ee804616",
       "version_major": 2,
       "version_minor": 0
      },
      "text/plain": [
       "Output()"
      ]
     },
     "metadata": {},
     "output_type": "display_data"
    }
   ],
   "source": [
    "import numpy as np\n",
    "import matplotlib.pyplot as plt\n",
    "from sklearn.model_selection import train_test_split\n",
    "import torch\n",
    "import torch.nn as nn\n",
    "import torch.optim as optim\n",
    "import ipywidgets as widgets\n",
    "from IPython.display import display, HTML, clear_output\n",
    "\n",
    "# Define multiple 2D functions for visualization\n",
    "def f1(x, y):\n",
    "    return x**2 + y**2\n",
    "\n",
    "def f2(x, y):\n",
    "    return np.sin(x) * np.cos(y)\n",
    "\n",
    "def f3(x, y):\n",
    "    return (1 - x)**2 + 100 * (y - x**2)**2  # Rosenbrock function\n",
    "\n",
    "functions = {\n",
    "    \"Simple Quadratic\": f1,\n",
    "    \"Trigonometric\": f2,\n",
    "    \"Rosenbrock\": f3\n",
    "}\n",
    "\n",
    "# Generate data\n",
    "x = np.linspace(-5, 5, 100)\n",
    "y = np.linspace(-5, 5, 100)\n",
    "X, Y = np.meshgrid(x, y)\n",
    "\n",
    "# Define a simple neural network\n",
    "class SimpleNet(nn.Module):\n",
    "    def __init__(self):\n",
    "        super(SimpleNet, self).__init__()\n",
    "        self.fc1 = nn.Linear(2, 10)\n",
    "        self.fc2 = nn.Linear(10, 1)\n",
    "    \n",
    "    def forward(self, x):\n",
    "        x = torch.relu(self.fc1(x))\n",
    "        return self.fc2(x)\n",
    "\n",
    "# Initialize model, loss function, and optimizer\n",
    "model = SimpleNet()\n",
    "criterion = nn.MSELoss()\n",
    "optimizer = optim.Adam(model.parameters(), lr=0.01)\n",
    "\n",
    "# Generate synthetic data\n",
    "def generate_data(func):\n",
    "    X_train = torch.randn(1000, 2) * 5\n",
    "    y_train = torch.tensor(func(X_train[:, 0].numpy(), X_train[:, 1].numpy())).float().unsqueeze(1)\n",
    "    return X_train, y_train\n",
    "\n",
    "# Training function\n",
    "def train(max_epochs, X_train, y_train):\n",
    "    losses = []\n",
    "    path = []\n",
    "    for epoch in range(max_epochs):\n",
    "        optimizer.zero_grad()\n",
    "        output = model(X_train)\n",
    "        loss = criterion(output, y_train)\n",
    "        loss.backward()\n",
    "        optimizer.step()\n",
    "        losses.append(loss.item())\n",
    "        \n",
    "        # Get current position\n",
    "        with torch.no_grad():\n",
    "            w1, w2 = model.fc1.weight.data[0, :2]  # Get the first two weights of the first layer\n",
    "            path.append((w1.item(), w2.item()))\n",
    "    \n",
    "    return losses, path\n",
    "\n",
    "# Visualization function\n",
    "def visualize(epochs, func, losses, path):\n",
    "    Z = func(X, Y)\n",
    "    \n",
    "    fig, (ax1, ax2) = plt.subplots(1, 2, figsize=(15, 6))\n",
    "    \n",
    "    # Plot loss curve\n",
    "    ax1.plot(losses[:epochs])\n",
    "    ax1.set_xlabel('Epoch')\n",
    "    ax1.set_ylabel('Loss')\n",
    "    ax1.set_title('Loss Curve')\n",
    "    \n",
    "    # Plot contour and optimization path\n",
    "    contour = ax2.contour(X, Y, Z, levels=20)\n",
    "    ax2.plot(*zip(*path[:epochs]), 'ro-')\n",
    "    ax2.set_xlabel('w1')\n",
    "    ax2.set_ylabel('w2')\n",
    "    ax2.set_title('Optimization Path')\n",
    "    \n",
    "    plt.tight_layout()\n",
    "    plt.show()\n",
    "\n",
    "# Create and display widgets\n",
    "max_epochs = 100\n",
    "epoch_slider = widgets.IntSlider(min=1, max=max_epochs, step=1, value=10, description='Epochs:')\n",
    "function_dropdown = widgets.Dropdown(options=list(functions.keys()), value=\"Simple Quadratic\", description='Function:')\n",
    "output = widgets.Output()\n",
    "\n",
    "display(epoch_slider, function_dropdown, output)\n",
    "\n",
    "# Global variables to store training results\n",
    "current_function = \"Simple Quadratic\"\n",
    "losses = []\n",
    "path = []\n",
    "\n",
    "# Update function for the widgets\n",
    "def update(change):\n",
    "    global current_function, losses, path\n",
    "    \n",
    "    with output:\n",
    "        clear_output(wait=True)\n",
    "        \n",
    "        # Only retrain if the function has changed\n",
    "        if change['owner'] == function_dropdown or not losses:\n",
    "            current_function = function_dropdown.value\n",
    "            X_train, y_train = generate_data(functions[current_function])\n",
    "            losses, path = train(max_epochs, X_train, y_train)\n",
    "        \n",
    "        visualize(epoch_slider.value, functions[current_function], losses, path)\n",
    "\n",
    "epoch_slider.observe(update, names='value')\n",
    "function_dropdown.observe(update, names='value')\n",
    "\n",
    "# Initial visualization\n",
    "update({'owner': function_dropdown})\n"
   ]
  }
 ],
 "metadata": {
  "kernelspec": {
   "display_name": ".venv",
   "language": "python",
   "name": "python3"
  },
  "language_info": {
   "codemirror_mode": {
    "name": "ipython",
    "version": 3
   },
   "file_extension": ".py",
   "mimetype": "text/x-python",
   "name": "python",
   "nbconvert_exporter": "python",
   "pygments_lexer": "ipython3",
   "version": "3.12.6"
  }
 },
 "nbformat": 4,
 "nbformat_minor": 2
}
